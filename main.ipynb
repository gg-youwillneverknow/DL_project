{
  "cells": [
    {
      "cell_type": "code",
      "execution_count": null,
      "metadata": {
        "id": "xqR84em0xtUo"
      },
      "outputs": [],
      "source": [
        "import numpy as np\n",
        "import pandas as pd"
      ]
    },
    {
      "cell_type": "code",
      "source": [
        "from google.colab import drive \n",
        "drive.mount('/content/drive')\n",
        "%cd '/content/drive/MyDrive/DL_project-main'"
      ],
      "metadata": {
        "id": "Yx4Mn1aBxulY",
        "outputId": "df6fc034-2e1e-431d-8403-95c982c03c76",
        "colab": {
          "base_uri": "https://localhost:8080/"
        }
      },
      "execution_count": 76,
      "outputs": [
        {
          "output_type": "stream",
          "name": "stdout",
          "text": [
            "Drive already mounted at /content/drive; to attempt to forcibly remount, call drive.mount(\"/content/drive\", force_remount=True).\n",
            "/content/drive/MyDrive/DL_project-main\n"
          ]
        }
      ]
    },
    {
      "cell_type": "code",
      "source": [
        "!pip install scikit-optimize"
      ],
      "metadata": {
        "id": "bL0tTknKxx63",
        "outputId": "3edf85fb-dd78-47db-d1a1-9f5ad07c9ecb",
        "colab": {
          "base_uri": "https://localhost:8080/"
        }
      },
      "execution_count": 78,
      "outputs": [
        {
          "output_type": "stream",
          "name": "stdout",
          "text": [
            "Looking in indexes: https://pypi.org/simple, https://us-python.pkg.dev/colab-wheels/public/simple/\n",
            "Requirement already satisfied: scikit-optimize in /usr/local/lib/python3.8/dist-packages (0.9.0)\n",
            "Requirement already satisfied: pyaml>=16.9 in /usr/local/lib/python3.8/dist-packages (from scikit-optimize) (21.10.1)\n",
            "Requirement already satisfied: numpy>=1.13.3 in /usr/local/lib/python3.8/dist-packages (from scikit-optimize) (1.21.6)\n",
            "Requirement already satisfied: scipy>=0.19.1 in /usr/local/lib/python3.8/dist-packages (from scikit-optimize) (1.7.3)\n",
            "Requirement already satisfied: joblib>=0.11 in /usr/local/lib/python3.8/dist-packages (from scikit-optimize) (1.2.0)\n",
            "Requirement already satisfied: scikit-learn>=0.20.0 in /usr/local/lib/python3.8/dist-packages (from scikit-optimize) (1.0.2)\n",
            "Requirement already satisfied: PyYAML in /usr/local/lib/python3.8/dist-packages (from pyaml>=16.9->scikit-optimize) (6.0)\n",
            "Requirement already satisfied: threadpoolctl>=2.0.0 in /usr/local/lib/python3.8/dist-packages (from scikit-learn>=0.20.0->scikit-optimize) (3.1.0)\n"
          ]
        }
      ]
    },
    {
      "cell_type": "code",
      "source": [
        "!pip install itertools"
      ],
      "metadata": {
        "id": "dOHdRUWo0Uc1",
        "outputId": "6777cebe-2c28-4390-a59f-db1283c2f515",
        "colab": {
          "base_uri": "https://localhost:8080/"
        }
      },
      "execution_count": 113,
      "outputs": [
        {
          "output_type": "stream",
          "name": "stdout",
          "text": [
            "Looking in indexes: https://pypi.org/simple, https://us-python.pkg.dev/colab-wheels/public/simple/\n",
            "\u001b[31mERROR: Could not find a version that satisfies the requirement itertools (from versions: none)\u001b[0m\u001b[31m\n",
            "\u001b[0m\u001b[31mERROR: No matching distribution found for itertools\u001b[0m\u001b[31m\n",
            "\u001b[0m"
          ]
        }
      ]
    },
    {
      "cell_type": "code",
      "execution_count": 80,
      "metadata": {
        "id": "psxuIDBjxtUp",
        "outputId": "4f35e6bb-f08f-4420-add6-66e3cf981dc7",
        "colab": {
          "base_uri": "https://localhost:8080/",
          "height": 661
        }
      },
      "outputs": [
        {
          "output_type": "execute_result",
          "data": {
            "text/plain": [
              "     PassengerId HomePlanet CryoSleep     Cabin    Destination   Age    VIP  \\\n",
              "0        0001_01     Europa     False     B/0/P    TRAPPIST-1e  39.0  False   \n",
              "1        0002_01      Earth     False     F/0/S    TRAPPIST-1e  24.0  False   \n",
              "2        0003_01     Europa     False     A/0/S    TRAPPIST-1e  58.0   True   \n",
              "3        0003_02     Europa     False     A/0/S    TRAPPIST-1e  33.0  False   \n",
              "4        0004_01      Earth     False     F/1/S    TRAPPIST-1e  16.0  False   \n",
              "...          ...        ...       ...       ...            ...   ...    ...   \n",
              "8688     9276_01     Europa     False    A/98/P    55 Cancri e  41.0   True   \n",
              "8689     9278_01      Earth      True  G/1499/S  PSO J318.5-22  18.0  False   \n",
              "8690     9279_01      Earth     False  G/1500/S    TRAPPIST-1e  26.0  False   \n",
              "8691     9280_01     Europa     False   E/608/S    55 Cancri e  32.0  False   \n",
              "8692     9280_02     Europa     False   E/608/S    TRAPPIST-1e  44.0  False   \n",
              "\n",
              "      RoomService  FoodCourt  ShoppingMall     Spa  VRDeck               Name  \\\n",
              "0             0.0        0.0           0.0     0.0     0.0    Maham Ofracculy   \n",
              "1           109.0        9.0          25.0   549.0    44.0       Juanna Vines   \n",
              "2            43.0     3576.0           0.0  6715.0    49.0      Altark Susent   \n",
              "3             0.0     1283.0         371.0  3329.0   193.0       Solam Susent   \n",
              "4           303.0       70.0         151.0   565.0     2.0  Willy Santantines   \n",
              "...           ...        ...           ...     ...     ...                ...   \n",
              "8688          0.0     6819.0           0.0  1643.0    74.0  Gravior Noxnuther   \n",
              "8689          0.0        0.0           0.0     0.0     0.0    Kurta Mondalley   \n",
              "8690          0.0        0.0        1872.0     1.0     0.0       Fayey Connon   \n",
              "8691          0.0     1049.0           0.0   353.0  3235.0   Celeon Hontichre   \n",
              "8692        126.0     4688.0           0.0     0.0    12.0   Propsh Hontichre   \n",
              "\n",
              "      Transported  \n",
              "0           False  \n",
              "1            True  \n",
              "2           False  \n",
              "3           False  \n",
              "4            True  \n",
              "...           ...  \n",
              "8688        False  \n",
              "8689        False  \n",
              "8690         True  \n",
              "8691        False  \n",
              "8692         True  \n",
              "\n",
              "[6606 rows x 14 columns]"
            ],
            "text/html": [
              "\n",
              "  <div id=\"df-a1714783-b1b3-46ab-a782-ca17d76f05d8\">\n",
              "    <div class=\"colab-df-container\">\n",
              "      <div>\n",
              "<style scoped>\n",
              "    .dataframe tbody tr th:only-of-type {\n",
              "        vertical-align: middle;\n",
              "    }\n",
              "\n",
              "    .dataframe tbody tr th {\n",
              "        vertical-align: top;\n",
              "    }\n",
              "\n",
              "    .dataframe thead th {\n",
              "        text-align: right;\n",
              "    }\n",
              "</style>\n",
              "<table border=\"1\" class=\"dataframe\">\n",
              "  <thead>\n",
              "    <tr style=\"text-align: right;\">\n",
              "      <th></th>\n",
              "      <th>PassengerId</th>\n",
              "      <th>HomePlanet</th>\n",
              "      <th>CryoSleep</th>\n",
              "      <th>Cabin</th>\n",
              "      <th>Destination</th>\n",
              "      <th>Age</th>\n",
              "      <th>VIP</th>\n",
              "      <th>RoomService</th>\n",
              "      <th>FoodCourt</th>\n",
              "      <th>ShoppingMall</th>\n",
              "      <th>Spa</th>\n",
              "      <th>VRDeck</th>\n",
              "      <th>Name</th>\n",
              "      <th>Transported</th>\n",
              "    </tr>\n",
              "  </thead>\n",
              "  <tbody>\n",
              "    <tr>\n",
              "      <th>0</th>\n",
              "      <td>0001_01</td>\n",
              "      <td>Europa</td>\n",
              "      <td>False</td>\n",
              "      <td>B/0/P</td>\n",
              "      <td>TRAPPIST-1e</td>\n",
              "      <td>39.0</td>\n",
              "      <td>False</td>\n",
              "      <td>0.0</td>\n",
              "      <td>0.0</td>\n",
              "      <td>0.0</td>\n",
              "      <td>0.0</td>\n",
              "      <td>0.0</td>\n",
              "      <td>Maham Ofracculy</td>\n",
              "      <td>False</td>\n",
              "    </tr>\n",
              "    <tr>\n",
              "      <th>1</th>\n",
              "      <td>0002_01</td>\n",
              "      <td>Earth</td>\n",
              "      <td>False</td>\n",
              "      <td>F/0/S</td>\n",
              "      <td>TRAPPIST-1e</td>\n",
              "      <td>24.0</td>\n",
              "      <td>False</td>\n",
              "      <td>109.0</td>\n",
              "      <td>9.0</td>\n",
              "      <td>25.0</td>\n",
              "      <td>549.0</td>\n",
              "      <td>44.0</td>\n",
              "      <td>Juanna Vines</td>\n",
              "      <td>True</td>\n",
              "    </tr>\n",
              "    <tr>\n",
              "      <th>2</th>\n",
              "      <td>0003_01</td>\n",
              "      <td>Europa</td>\n",
              "      <td>False</td>\n",
              "      <td>A/0/S</td>\n",
              "      <td>TRAPPIST-1e</td>\n",
              "      <td>58.0</td>\n",
              "      <td>True</td>\n",
              "      <td>43.0</td>\n",
              "      <td>3576.0</td>\n",
              "      <td>0.0</td>\n",
              "      <td>6715.0</td>\n",
              "      <td>49.0</td>\n",
              "      <td>Altark Susent</td>\n",
              "      <td>False</td>\n",
              "    </tr>\n",
              "    <tr>\n",
              "      <th>3</th>\n",
              "      <td>0003_02</td>\n",
              "      <td>Europa</td>\n",
              "      <td>False</td>\n",
              "      <td>A/0/S</td>\n",
              "      <td>TRAPPIST-1e</td>\n",
              "      <td>33.0</td>\n",
              "      <td>False</td>\n",
              "      <td>0.0</td>\n",
              "      <td>1283.0</td>\n",
              "      <td>371.0</td>\n",
              "      <td>3329.0</td>\n",
              "      <td>193.0</td>\n",
              "      <td>Solam Susent</td>\n",
              "      <td>False</td>\n",
              "    </tr>\n",
              "    <tr>\n",
              "      <th>4</th>\n",
              "      <td>0004_01</td>\n",
              "      <td>Earth</td>\n",
              "      <td>False</td>\n",
              "      <td>F/1/S</td>\n",
              "      <td>TRAPPIST-1e</td>\n",
              "      <td>16.0</td>\n",
              "      <td>False</td>\n",
              "      <td>303.0</td>\n",
              "      <td>70.0</td>\n",
              "      <td>151.0</td>\n",
              "      <td>565.0</td>\n",
              "      <td>2.0</td>\n",
              "      <td>Willy Santantines</td>\n",
              "      <td>True</td>\n",
              "    </tr>\n",
              "    <tr>\n",
              "      <th>...</th>\n",
              "      <td>...</td>\n",
              "      <td>...</td>\n",
              "      <td>...</td>\n",
              "      <td>...</td>\n",
              "      <td>...</td>\n",
              "      <td>...</td>\n",
              "      <td>...</td>\n",
              "      <td>...</td>\n",
              "      <td>...</td>\n",
              "      <td>...</td>\n",
              "      <td>...</td>\n",
              "      <td>...</td>\n",
              "      <td>...</td>\n",
              "      <td>...</td>\n",
              "    </tr>\n",
              "    <tr>\n",
              "      <th>8688</th>\n",
              "      <td>9276_01</td>\n",
              "      <td>Europa</td>\n",
              "      <td>False</td>\n",
              "      <td>A/98/P</td>\n",
              "      <td>55 Cancri e</td>\n",
              "      <td>41.0</td>\n",
              "      <td>True</td>\n",
              "      <td>0.0</td>\n",
              "      <td>6819.0</td>\n",
              "      <td>0.0</td>\n",
              "      <td>1643.0</td>\n",
              "      <td>74.0</td>\n",
              "      <td>Gravior Noxnuther</td>\n",
              "      <td>False</td>\n",
              "    </tr>\n",
              "    <tr>\n",
              "      <th>8689</th>\n",
              "      <td>9278_01</td>\n",
              "      <td>Earth</td>\n",
              "      <td>True</td>\n",
              "      <td>G/1499/S</td>\n",
              "      <td>PSO J318.5-22</td>\n",
              "      <td>18.0</td>\n",
              "      <td>False</td>\n",
              "      <td>0.0</td>\n",
              "      <td>0.0</td>\n",
              "      <td>0.0</td>\n",
              "      <td>0.0</td>\n",
              "      <td>0.0</td>\n",
              "      <td>Kurta Mondalley</td>\n",
              "      <td>False</td>\n",
              "    </tr>\n",
              "    <tr>\n",
              "      <th>8690</th>\n",
              "      <td>9279_01</td>\n",
              "      <td>Earth</td>\n",
              "      <td>False</td>\n",
              "      <td>G/1500/S</td>\n",
              "      <td>TRAPPIST-1e</td>\n",
              "      <td>26.0</td>\n",
              "      <td>False</td>\n",
              "      <td>0.0</td>\n",
              "      <td>0.0</td>\n",
              "      <td>1872.0</td>\n",
              "      <td>1.0</td>\n",
              "      <td>0.0</td>\n",
              "      <td>Fayey Connon</td>\n",
              "      <td>True</td>\n",
              "    </tr>\n",
              "    <tr>\n",
              "      <th>8691</th>\n",
              "      <td>9280_01</td>\n",
              "      <td>Europa</td>\n",
              "      <td>False</td>\n",
              "      <td>E/608/S</td>\n",
              "      <td>55 Cancri e</td>\n",
              "      <td>32.0</td>\n",
              "      <td>False</td>\n",
              "      <td>0.0</td>\n",
              "      <td>1049.0</td>\n",
              "      <td>0.0</td>\n",
              "      <td>353.0</td>\n",
              "      <td>3235.0</td>\n",
              "      <td>Celeon Hontichre</td>\n",
              "      <td>False</td>\n",
              "    </tr>\n",
              "    <tr>\n",
              "      <th>8692</th>\n",
              "      <td>9280_02</td>\n",
              "      <td>Europa</td>\n",
              "      <td>False</td>\n",
              "      <td>E/608/S</td>\n",
              "      <td>TRAPPIST-1e</td>\n",
              "      <td>44.0</td>\n",
              "      <td>False</td>\n",
              "      <td>126.0</td>\n",
              "      <td>4688.0</td>\n",
              "      <td>0.0</td>\n",
              "      <td>0.0</td>\n",
              "      <td>12.0</td>\n",
              "      <td>Propsh Hontichre</td>\n",
              "      <td>True</td>\n",
              "    </tr>\n",
              "  </tbody>\n",
              "</table>\n",
              "<p>6606 rows × 14 columns</p>\n",
              "</div>\n",
              "      <button class=\"colab-df-convert\" onclick=\"convertToInteractive('df-a1714783-b1b3-46ab-a782-ca17d76f05d8')\"\n",
              "              title=\"Convert this dataframe to an interactive table.\"\n",
              "              style=\"display:none;\">\n",
              "        \n",
              "  <svg xmlns=\"http://www.w3.org/2000/svg\" height=\"24px\"viewBox=\"0 0 24 24\"\n",
              "       width=\"24px\">\n",
              "    <path d=\"M0 0h24v24H0V0z\" fill=\"none\"/>\n",
              "    <path d=\"M18.56 5.44l.94 2.06.94-2.06 2.06-.94-2.06-.94-.94-2.06-.94 2.06-2.06.94zm-11 1L8.5 8.5l.94-2.06 2.06-.94-2.06-.94L8.5 2.5l-.94 2.06-2.06.94zm10 10l.94 2.06.94-2.06 2.06-.94-2.06-.94-.94-2.06-.94 2.06-2.06.94z\"/><path d=\"M17.41 7.96l-1.37-1.37c-.4-.4-.92-.59-1.43-.59-.52 0-1.04.2-1.43.59L10.3 9.45l-7.72 7.72c-.78.78-.78 2.05 0 2.83L4 21.41c.39.39.9.59 1.41.59.51 0 1.02-.2 1.41-.59l7.78-7.78 2.81-2.81c.8-.78.8-2.07 0-2.86zM5.41 20L4 18.59l7.72-7.72 1.47 1.35L5.41 20z\"/>\n",
              "  </svg>\n",
              "      </button>\n",
              "      \n",
              "  <style>\n",
              "    .colab-df-container {\n",
              "      display:flex;\n",
              "      flex-wrap:wrap;\n",
              "      gap: 12px;\n",
              "    }\n",
              "\n",
              "    .colab-df-convert {\n",
              "      background-color: #E8F0FE;\n",
              "      border: none;\n",
              "      border-radius: 50%;\n",
              "      cursor: pointer;\n",
              "      display: none;\n",
              "      fill: #1967D2;\n",
              "      height: 32px;\n",
              "      padding: 0 0 0 0;\n",
              "      width: 32px;\n",
              "    }\n",
              "\n",
              "    .colab-df-convert:hover {\n",
              "      background-color: #E2EBFA;\n",
              "      box-shadow: 0px 1px 2px rgba(60, 64, 67, 0.3), 0px 1px 3px 1px rgba(60, 64, 67, 0.15);\n",
              "      fill: #174EA6;\n",
              "    }\n",
              "\n",
              "    [theme=dark] .colab-df-convert {\n",
              "      background-color: #3B4455;\n",
              "      fill: #D2E3FC;\n",
              "    }\n",
              "\n",
              "    [theme=dark] .colab-df-convert:hover {\n",
              "      background-color: #434B5C;\n",
              "      box-shadow: 0px 1px 3px 1px rgba(0, 0, 0, 0.15);\n",
              "      filter: drop-shadow(0px 1px 2px rgba(0, 0, 0, 0.3));\n",
              "      fill: #FFFFFF;\n",
              "    }\n",
              "  </style>\n",
              "\n",
              "      <script>\n",
              "        const buttonEl =\n",
              "          document.querySelector('#df-a1714783-b1b3-46ab-a782-ca17d76f05d8 button.colab-df-convert');\n",
              "        buttonEl.style.display =\n",
              "          google.colab.kernel.accessAllowed ? 'block' : 'none';\n",
              "\n",
              "        async function convertToInteractive(key) {\n",
              "          const element = document.querySelector('#df-a1714783-b1b3-46ab-a782-ca17d76f05d8');\n",
              "          const dataTable =\n",
              "            await google.colab.kernel.invokeFunction('convertToInteractive',\n",
              "                                                     [key], {});\n",
              "          if (!dataTable) return;\n",
              "\n",
              "          const docLinkHtml = 'Like what you see? Visit the ' +\n",
              "            '<a target=\"_blank\" href=https://colab.research.google.com/notebooks/data_table.ipynb>data table notebook</a>'\n",
              "            + ' to learn more about interactive tables.';\n",
              "          element.innerHTML = '';\n",
              "          dataTable['output_type'] = 'display_data';\n",
              "          await google.colab.output.renderOutput(dataTable, element);\n",
              "          const docLink = document.createElement('div');\n",
              "          docLink.innerHTML = docLinkHtml;\n",
              "          element.appendChild(docLink);\n",
              "        }\n",
              "      </script>\n",
              "    </div>\n",
              "  </div>\n",
              "  "
            ]
          },
          "metadata": {},
          "execution_count": 80
        }
      ],
      "source": [
        "#import dataset\n",
        "df = pd.read_csv('spaceship-titanic/train.csv').dropna(axis=0,how='any')\n",
        "df"
      ]
    },
    {
      "cell_type": "code",
      "execution_count": 81,
      "metadata": {
        "id": "tiy0F9WJxtUq"
      },
      "outputs": [],
      "source": [
        "from sklearn.preprocessing import MinMaxScaler\n",
        "\n",
        "#specify target label\n",
        "target = 'Transported'\n",
        "\n",
        "data = [name for name in df.columns if name != target]\n",
        "numeric_data = []\n",
        "string_data = []\n",
        "tokenizers = {}\n",
        "\n",
        "#organize data based on data types\n",
        "dtypes = dict(df[data].dtypes)\n",
        "\n",
        "for name in data:\n",
        "    if str(dtypes[name]) == 'object':\n",
        "        string_data.append(name)\n",
        "        \n",
        "        #create tokenizer\n",
        "        value_set = sorted(list(set([x if type(x) == str or type(x) == bool else '' for x in df[name]])))\n",
        "        tokenizer = {token:num for num,token in enumerate(value_set)}\n",
        "        tokenizers[name] = tokenizer\n",
        "\n",
        "    else:\n",
        "        numeric_data.append(name)\n",
        "\n",
        "#token count for each string feature\n",
        "n_tokens = {name:len(tokenizer) for name,tokenizer in tokenizers.items()}\n",
        "#determine network embedding size\n",
        "n_embeddings = {name:int(np.ceil(np.log(n_token))) for name,n_token in n_tokens.items()}\n",
        "#create scalers for each numeric feature\n",
        "scalers = {name:MinMaxScaler(feature_range=(-1.,1.),copy=True) for name in numeric_data}\n",
        "\n",
        "#scale numeric features\n",
        "scaled_numeric_data = {name:scalers[name].fit_transform(df[name].to_numpy().copy().reshape(-1,1)).reshape(-1) for name in numeric_data}\n",
        "scaled_numeric_df = pd.DataFrame(scaled_numeric_data)\n",
        "\n",
        "#tokenize string features\n",
        "tokenized_string_data = {name:np.vectorize(tokenizers[name].get)(df[name].to_numpy().copy()) for name in string_data}\n",
        "tokenized_string_df = pd.DataFrame(tokenized_string_data)\n",
        "\n",
        "processed_df = scaled_numeric_df.join(tokenized_string_df)"
      ]
    },
    {
      "cell_type": "code",
      "execution_count": 82,
      "metadata": {
        "id": "0L3ybHS3xtUq",
        "outputId": "e7a76a0a-9c62-444f-972b-740976b01bc4",
        "colab": {
          "base_uri": "https://localhost:8080/",
          "height": 488
        }
      },
      "outputs": [
        {
          "output_type": "execute_result",
          "data": {
            "text/plain": [
              "           Age  RoomService  FoodCourt  ShoppingMall       Spa    VRDeck  \\\n",
              "0    -0.012658    -1.000000  -1.000000     -1.000000 -1.000000 -1.000000   \n",
              "1    -0.392405    -0.978024  -0.999396     -0.995919 -0.951000 -0.995673   \n",
              "2     0.468354    -0.991331  -0.760105     -1.000000 -0.400660 -0.995181   \n",
              "3    -0.164557    -1.000000  -0.913930     -0.939443 -0.702874 -0.981019   \n",
              "4    -0.594937    -0.938911  -0.995304     -0.975353 -0.949572 -0.999803   \n",
              "...        ...          ...        ...           ...       ...       ...   \n",
              "6601  0.037975    -1.000000  -0.542549     -1.000000 -0.853356 -0.992722   \n",
              "6602 -0.544304    -1.000000  -1.000000     -1.000000 -1.000000 -1.000000   \n",
              "6603 -0.341772    -1.000000  -1.000000     -0.694442 -0.999911 -1.000000   \n",
              "6604 -0.189873    -1.000000  -0.929628     -1.000000 -0.968493 -0.681845   \n",
              "6605  0.113924    -0.974597  -0.685506     -1.000000 -1.000000 -0.998820   \n",
              "\n",
              "      PassengerId  HomePlanet  CryoSleep  Cabin  Destination  VIP  Name  \n",
              "0               0           1          0    137            2    0  4080  \n",
              "1               1           0          0   1823            2    0  3491  \n",
              "2               2           1          0      1            2    1   353  \n",
              "3               3           1          0      1            2    0  5536  \n",
              "4               4           0          0   1825            2    0  6464  \n",
              "...           ...         ...        ...    ...          ...  ...   ...  \n",
              "6601         6601           1          0    134            0    1  2723  \n",
              "6602         6602           0          1   4293            1    0  3707  \n",
              "6603         6603           0          0   4298            2    0  2314  \n",
              "6604         6604           1          0   1778            0    0  1244  \n",
              "6605         6605           1          0   1778            2    0  4948  \n",
              "\n",
              "[6606 rows x 13 columns]"
            ],
            "text/html": [
              "\n",
              "  <div id=\"df-07316554-710c-43c2-ac2c-5110e7bc72c5\">\n",
              "    <div class=\"colab-df-container\">\n",
              "      <div>\n",
              "<style scoped>\n",
              "    .dataframe tbody tr th:only-of-type {\n",
              "        vertical-align: middle;\n",
              "    }\n",
              "\n",
              "    .dataframe tbody tr th {\n",
              "        vertical-align: top;\n",
              "    }\n",
              "\n",
              "    .dataframe thead th {\n",
              "        text-align: right;\n",
              "    }\n",
              "</style>\n",
              "<table border=\"1\" class=\"dataframe\">\n",
              "  <thead>\n",
              "    <tr style=\"text-align: right;\">\n",
              "      <th></th>\n",
              "      <th>Age</th>\n",
              "      <th>RoomService</th>\n",
              "      <th>FoodCourt</th>\n",
              "      <th>ShoppingMall</th>\n",
              "      <th>Spa</th>\n",
              "      <th>VRDeck</th>\n",
              "      <th>PassengerId</th>\n",
              "      <th>HomePlanet</th>\n",
              "      <th>CryoSleep</th>\n",
              "      <th>Cabin</th>\n",
              "      <th>Destination</th>\n",
              "      <th>VIP</th>\n",
              "      <th>Name</th>\n",
              "    </tr>\n",
              "  </thead>\n",
              "  <tbody>\n",
              "    <tr>\n",
              "      <th>0</th>\n",
              "      <td>-0.012658</td>\n",
              "      <td>-1.000000</td>\n",
              "      <td>-1.000000</td>\n",
              "      <td>-1.000000</td>\n",
              "      <td>-1.000000</td>\n",
              "      <td>-1.000000</td>\n",
              "      <td>0</td>\n",
              "      <td>1</td>\n",
              "      <td>0</td>\n",
              "      <td>137</td>\n",
              "      <td>2</td>\n",
              "      <td>0</td>\n",
              "      <td>4080</td>\n",
              "    </tr>\n",
              "    <tr>\n",
              "      <th>1</th>\n",
              "      <td>-0.392405</td>\n",
              "      <td>-0.978024</td>\n",
              "      <td>-0.999396</td>\n",
              "      <td>-0.995919</td>\n",
              "      <td>-0.951000</td>\n",
              "      <td>-0.995673</td>\n",
              "      <td>1</td>\n",
              "      <td>0</td>\n",
              "      <td>0</td>\n",
              "      <td>1823</td>\n",
              "      <td>2</td>\n",
              "      <td>0</td>\n",
              "      <td>3491</td>\n",
              "    </tr>\n",
              "    <tr>\n",
              "      <th>2</th>\n",
              "      <td>0.468354</td>\n",
              "      <td>-0.991331</td>\n",
              "      <td>-0.760105</td>\n",
              "      <td>-1.000000</td>\n",
              "      <td>-0.400660</td>\n",
              "      <td>-0.995181</td>\n",
              "      <td>2</td>\n",
              "      <td>1</td>\n",
              "      <td>0</td>\n",
              "      <td>1</td>\n",
              "      <td>2</td>\n",
              "      <td>1</td>\n",
              "      <td>353</td>\n",
              "    </tr>\n",
              "    <tr>\n",
              "      <th>3</th>\n",
              "      <td>-0.164557</td>\n",
              "      <td>-1.000000</td>\n",
              "      <td>-0.913930</td>\n",
              "      <td>-0.939443</td>\n",
              "      <td>-0.702874</td>\n",
              "      <td>-0.981019</td>\n",
              "      <td>3</td>\n",
              "      <td>1</td>\n",
              "      <td>0</td>\n",
              "      <td>1</td>\n",
              "      <td>2</td>\n",
              "      <td>0</td>\n",
              "      <td>5536</td>\n",
              "    </tr>\n",
              "    <tr>\n",
              "      <th>4</th>\n",
              "      <td>-0.594937</td>\n",
              "      <td>-0.938911</td>\n",
              "      <td>-0.995304</td>\n",
              "      <td>-0.975353</td>\n",
              "      <td>-0.949572</td>\n",
              "      <td>-0.999803</td>\n",
              "      <td>4</td>\n",
              "      <td>0</td>\n",
              "      <td>0</td>\n",
              "      <td>1825</td>\n",
              "      <td>2</td>\n",
              "      <td>0</td>\n",
              "      <td>6464</td>\n",
              "    </tr>\n",
              "    <tr>\n",
              "      <th>...</th>\n",
              "      <td>...</td>\n",
              "      <td>...</td>\n",
              "      <td>...</td>\n",
              "      <td>...</td>\n",
              "      <td>...</td>\n",
              "      <td>...</td>\n",
              "      <td>...</td>\n",
              "      <td>...</td>\n",
              "      <td>...</td>\n",
              "      <td>...</td>\n",
              "      <td>...</td>\n",
              "      <td>...</td>\n",
              "      <td>...</td>\n",
              "    </tr>\n",
              "    <tr>\n",
              "      <th>6601</th>\n",
              "      <td>0.037975</td>\n",
              "      <td>-1.000000</td>\n",
              "      <td>-0.542549</td>\n",
              "      <td>-1.000000</td>\n",
              "      <td>-0.853356</td>\n",
              "      <td>-0.992722</td>\n",
              "      <td>6601</td>\n",
              "      <td>1</td>\n",
              "      <td>0</td>\n",
              "      <td>134</td>\n",
              "      <td>0</td>\n",
              "      <td>1</td>\n",
              "      <td>2723</td>\n",
              "    </tr>\n",
              "    <tr>\n",
              "      <th>6602</th>\n",
              "      <td>-0.544304</td>\n",
              "      <td>-1.000000</td>\n",
              "      <td>-1.000000</td>\n",
              "      <td>-1.000000</td>\n",
              "      <td>-1.000000</td>\n",
              "      <td>-1.000000</td>\n",
              "      <td>6602</td>\n",
              "      <td>0</td>\n",
              "      <td>1</td>\n",
              "      <td>4293</td>\n",
              "      <td>1</td>\n",
              "      <td>0</td>\n",
              "      <td>3707</td>\n",
              "    </tr>\n",
              "    <tr>\n",
              "      <th>6603</th>\n",
              "      <td>-0.341772</td>\n",
              "      <td>-1.000000</td>\n",
              "      <td>-1.000000</td>\n",
              "      <td>-0.694442</td>\n",
              "      <td>-0.999911</td>\n",
              "      <td>-1.000000</td>\n",
              "      <td>6603</td>\n",
              "      <td>0</td>\n",
              "      <td>0</td>\n",
              "      <td>4298</td>\n",
              "      <td>2</td>\n",
              "      <td>0</td>\n",
              "      <td>2314</td>\n",
              "    </tr>\n",
              "    <tr>\n",
              "      <th>6604</th>\n",
              "      <td>-0.189873</td>\n",
              "      <td>-1.000000</td>\n",
              "      <td>-0.929628</td>\n",
              "      <td>-1.000000</td>\n",
              "      <td>-0.968493</td>\n",
              "      <td>-0.681845</td>\n",
              "      <td>6604</td>\n",
              "      <td>1</td>\n",
              "      <td>0</td>\n",
              "      <td>1778</td>\n",
              "      <td>0</td>\n",
              "      <td>0</td>\n",
              "      <td>1244</td>\n",
              "    </tr>\n",
              "    <tr>\n",
              "      <th>6605</th>\n",
              "      <td>0.113924</td>\n",
              "      <td>-0.974597</td>\n",
              "      <td>-0.685506</td>\n",
              "      <td>-1.000000</td>\n",
              "      <td>-1.000000</td>\n",
              "      <td>-0.998820</td>\n",
              "      <td>6605</td>\n",
              "      <td>1</td>\n",
              "      <td>0</td>\n",
              "      <td>1778</td>\n",
              "      <td>2</td>\n",
              "      <td>0</td>\n",
              "      <td>4948</td>\n",
              "    </tr>\n",
              "  </tbody>\n",
              "</table>\n",
              "<p>6606 rows × 13 columns</p>\n",
              "</div>\n",
              "      <button class=\"colab-df-convert\" onclick=\"convertToInteractive('df-07316554-710c-43c2-ac2c-5110e7bc72c5')\"\n",
              "              title=\"Convert this dataframe to an interactive table.\"\n",
              "              style=\"display:none;\">\n",
              "        \n",
              "  <svg xmlns=\"http://www.w3.org/2000/svg\" height=\"24px\"viewBox=\"0 0 24 24\"\n",
              "       width=\"24px\">\n",
              "    <path d=\"M0 0h24v24H0V0z\" fill=\"none\"/>\n",
              "    <path d=\"M18.56 5.44l.94 2.06.94-2.06 2.06-.94-2.06-.94-.94-2.06-.94 2.06-2.06.94zm-11 1L8.5 8.5l.94-2.06 2.06-.94-2.06-.94L8.5 2.5l-.94 2.06-2.06.94zm10 10l.94 2.06.94-2.06 2.06-.94-2.06-.94-.94-2.06-.94 2.06-2.06.94z\"/><path d=\"M17.41 7.96l-1.37-1.37c-.4-.4-.92-.59-1.43-.59-.52 0-1.04.2-1.43.59L10.3 9.45l-7.72 7.72c-.78.78-.78 2.05 0 2.83L4 21.41c.39.39.9.59 1.41.59.51 0 1.02-.2 1.41-.59l7.78-7.78 2.81-2.81c.8-.78.8-2.07 0-2.86zM5.41 20L4 18.59l7.72-7.72 1.47 1.35L5.41 20z\"/>\n",
              "  </svg>\n",
              "      </button>\n",
              "      \n",
              "  <style>\n",
              "    .colab-df-container {\n",
              "      display:flex;\n",
              "      flex-wrap:wrap;\n",
              "      gap: 12px;\n",
              "    }\n",
              "\n",
              "    .colab-df-convert {\n",
              "      background-color: #E8F0FE;\n",
              "      border: none;\n",
              "      border-radius: 50%;\n",
              "      cursor: pointer;\n",
              "      display: none;\n",
              "      fill: #1967D2;\n",
              "      height: 32px;\n",
              "      padding: 0 0 0 0;\n",
              "      width: 32px;\n",
              "    }\n",
              "\n",
              "    .colab-df-convert:hover {\n",
              "      background-color: #E2EBFA;\n",
              "      box-shadow: 0px 1px 2px rgba(60, 64, 67, 0.3), 0px 1px 3px 1px rgba(60, 64, 67, 0.15);\n",
              "      fill: #174EA6;\n",
              "    }\n",
              "\n",
              "    [theme=dark] .colab-df-convert {\n",
              "      background-color: #3B4455;\n",
              "      fill: #D2E3FC;\n",
              "    }\n",
              "\n",
              "    [theme=dark] .colab-df-convert:hover {\n",
              "      background-color: #434B5C;\n",
              "      box-shadow: 0px 1px 3px 1px rgba(0, 0, 0, 0.15);\n",
              "      filter: drop-shadow(0px 1px 2px rgba(0, 0, 0, 0.3));\n",
              "      fill: #FFFFFF;\n",
              "    }\n",
              "  </style>\n",
              "\n",
              "      <script>\n",
              "        const buttonEl =\n",
              "          document.querySelector('#df-07316554-710c-43c2-ac2c-5110e7bc72c5 button.colab-df-convert');\n",
              "        buttonEl.style.display =\n",
              "          google.colab.kernel.accessAllowed ? 'block' : 'none';\n",
              "\n",
              "        async function convertToInteractive(key) {\n",
              "          const element = document.querySelector('#df-07316554-710c-43c2-ac2c-5110e7bc72c5');\n",
              "          const dataTable =\n",
              "            await google.colab.kernel.invokeFunction('convertToInteractive',\n",
              "                                                     [key], {});\n",
              "          if (!dataTable) return;\n",
              "\n",
              "          const docLinkHtml = 'Like what you see? Visit the ' +\n",
              "            '<a target=\"_blank\" href=https://colab.research.google.com/notebooks/data_table.ipynb>data table notebook</a>'\n",
              "            + ' to learn more about interactive tables.';\n",
              "          element.innerHTML = '';\n",
              "          dataTable['output_type'] = 'display_data';\n",
              "          await google.colab.output.renderOutput(dataTable, element);\n",
              "          const docLink = document.createElement('div');\n",
              "          docLink.innerHTML = docLinkHtml;\n",
              "          element.appendChild(docLink);\n",
              "        }\n",
              "      </script>\n",
              "    </div>\n",
              "  </div>\n",
              "  "
            ]
          },
          "metadata": {},
          "execution_count": 82
        }
      ],
      "source": [
        "processed_df"
      ]
    },
    {
      "cell_type": "code",
      "execution_count": 83,
      "metadata": {
        "id": "UWHbYzfextUq"
      },
      "outputs": [],
      "source": [
        "#split data for training and testing\n",
        "data_split_mask = np.random.rand(len(df)) < 0.8\n",
        "\n",
        "train_df = processed_df[data_split_mask].reset_index(drop=True)\n",
        "train_target_df = df[[target]][data_split_mask].reset_index(drop=True)\n",
        "\n",
        "test_df = processed_df[~data_split_mask].reset_index(drop=True)\n",
        "test_target_df = df[[target]][~data_split_mask].reset_index(drop=True)"
      ]
    },
    {
      "cell_type": "code",
      "execution_count": 84,
      "metadata": {
        "id": "3oNK4aSpxtUr"
      },
      "outputs": [],
      "source": [
        "from sklearn.model_selection import GridSearchCV\n",
        "from skopt.space import Real, Categorical, Integer\n",
        "from skopt.plots import plot_objective, plot_histogram\n",
        "\n",
        "from sklearn.linear_model import LogisticRegression\n",
        "from sklearn.ensemble import RandomForestClassifier\n",
        "from sklearn.svm import SVC\n",
        "from sklearn.neighbors import KNeighborsClassifier\n",
        "from sklearn.pipeline import Pipeline\n",
        "from sklearn.model_selection import train_test_split\n",
        "\n",
        "X_train, X_test, y_train, y_test = train_test_split(processed_df, df[target], random_state=0)"
      ]
    },
    {
      "cell_type": "code",
      "execution_count": 85,
      "metadata": {
        "id": "OJGgtRPUxtUr"
      },
      "outputs": [],
      "source": [
        "# search over different model types\n",
        "\n",
        "C = [1000, 2000]\n",
        "gamm = [1, 0.1, 0.01, 0.001, 0.0001]\n",
        "kernel = ['poly', 'rbf'] #['linear',\n",
        "\n",
        "SVC_grid = {\n",
        "    'svc__C': C,\n",
        "    #'svc__gamma': gamm,\n",
        "    'svc__kernel': kernel,\n",
        "}\n",
        "\n",
        "# Number of trees in random forest\n",
        "n_estimators = [10, 50, 100] #[int(x) for x in np.linspace(start = 200, stop = 2000, num = 10)]\n",
        "# Number of features to consider at every split\n",
        "max_features = ['auto', 'sqrt']\n",
        "# Maximum number of levels in tree\n",
        "max_depth = [5, 10] # [int(x) for x in np.linspace(10, 110, num = 11)]\n",
        "max_depth.append(None)\n",
        "# Minimum number of samples required to split a node\n",
        "min_samples_split = [2, 5, 10]\n",
        "# Minimum number of samples required at each leaf node\n",
        "min_samples_leaf = [1, 2, 4]\n",
        "# Method of selecting samples for training each tree\n",
        "bootstrap = [True, False]\n",
        "# Create the random grid\n",
        "RF_grid = {\n",
        "    'rf__n_estimators': n_estimators,\n",
        "    'rf__max_features': max_features,\n",
        "    'rf__max_depth': max_depth,\n",
        "    'rf__min_samples_split': min_samples_split,\n",
        "    'rf__min_samples_leaf': min_samples_leaf,\n",
        "    'rf__bootstrap': bootstrap\n",
        "}\n",
        "\n",
        "#C = np.logspace(-8, 8, 50)\n",
        "C = [1000, 10000, 100000, 150000, 300000]\n",
        "\n",
        "penalty = ['l2'] # l1 doesn't exist\n",
        "\n",
        "LR_grid = {\n",
        "    'lr__C': C,\n",
        "    'lr__penalty': penalty,\n",
        "}\n",
        "\n",
        "k_range = list(range(20, 75))\n",
        "weights = ['uniform','distance']\n",
        "metric = ['euclidean','manhattan']\n",
        "\n",
        "KNN_grid = {\n",
        "    'knn__n_neighbors': k_range, # I assume you meant \"n_neighbors\" for \"k\"\n",
        "    'knn__weights': weights,\n",
        "    'knn__metric': metric,\n",
        "}\n",
        "\n",
        "params = [SVC_grid, RF_grid, LR_grid, KNN_grid]"
      ]
    },
    {
      "cell_type": "code",
      "execution_count": 86,
      "metadata": {
        "id": "2pW8VhIDxtUr",
        "outputId": "44f6ab4f-e7fd-4082-c321-7bcd794d0c78",
        "colab": {
          "base_uri": "https://localhost:8080/"
        }
      },
      "outputs": [
        {
          "output_type": "stream",
          "name": "stdout",
          "text": [
            "val. score: 0.6201759518068656\n",
            "test score: 0.6302226013593238\n",
            "best params: {'svc__C': 2000, 'svc__kernel': 'rbf'}\n"
          ]
        }
      ],
      "source": [
        "pipe_1 = Pipeline(steps=[('svc', SVC(random_state=0))])\n",
        "opt = GridSearchCV(\n",
        "    pipe_1, params[0], cv=3, n_jobs=-1, scoring='roc_auc'\n",
        ")\n",
        "\n",
        "opt.fit(X_train, y_train)\n",
        "\n",
        "print(\"val. score: %s\" % opt.best_score_)\n",
        "print(\"test score: %s\" % opt.score(X_test, y_test))\n",
        "print(\"best params: %s\" % str(opt.best_params_))"
      ]
    },
    {
      "cell_type": "code",
      "execution_count": 87,
      "metadata": {
        "id": "HyWDKCNMxtUr",
        "outputId": "45ed926f-e664-4cf7-eeae-cdcd8f1f6c8c",
        "colab": {
          "base_uri": "https://localhost:8080/"
        }
      },
      "outputs": [
        {
          "metadata": {
            "tags": null
          },
          "name": "stdout",
          "output_type": "stream",
          "text": [
            "val. score: 0.8861532177693586\n",
            "test score: 0.8728180684234981\n",
            "best params: {'rf__bootstrap': False, 'rf__max_depth': 10, 'rf__max_features': 'auto', 'rf__min_samples_leaf': 2, 'rf__min_samples_split': 5, 'rf__n_estimators': 100}\n"
          ]
        }
      ],
      "source": [
        "pipe_2 = Pipeline(steps=[('rf', RandomForestClassifier(random_state=0))])\n",
        "opt = GridSearchCV(\n",
        "    pipe_2, params[1], cv=3, n_jobs=-1, scoring='roc_auc'\n",
        ")\n",
        "\n",
        "opt.fit(X_train, y_train)\n",
        "\n",
        "print(\"val. score: %s\" % opt.best_score_)\n",
        "print(\"test score: %s\" % opt.score(X_test, y_test))\n",
        "print(\"best params: %s\" % str(opt.best_params_))"
      ]
    },
    {
      "cell_type": "code",
      "execution_count": 88,
      "metadata": {
        "id": "qaUJTrssxtUr",
        "outputId": "800b0974-0fd4-4078-8c88-74bc70c49f61",
        "colab": {
          "base_uri": "https://localhost:8080/"
        }
      },
      "outputs": [
        {
          "metadata": {
            "tags": null
          },
          "name": "stdout",
          "output_type": "stream",
          "text": [
            "val. score: 0.7931719764804755\n",
            "test score: 0.7605778518463147\n",
            "best params: {'lr__C': 150000, 'lr__penalty': 'l2'}\n"
          ]
        }
      ],
      "source": [
        "pipe_3 = Pipeline(steps=[('lr', LogisticRegression(random_state=0))])\n",
        "opt = GridSearchCV(\n",
        "    pipe_3, params[2], cv=3, n_jobs=-1, scoring='roc_auc'\n",
        ")\n",
        "\n",
        "opt.fit(X_train, y_train)\n",
        "\n",
        "print(\"val. score: %s\" % opt.best_score_)\n",
        "print(\"test score: %s\" % opt.score(X_test, y_test))\n",
        "print(\"best params: %s\" % str(opt.best_params_))"
      ]
    },
    {
      "cell_type": "code",
      "execution_count": 89,
      "metadata": {
        "id": "AQGYLRQwxtUs",
        "outputId": "f4af7560-44d7-4f9d-bfdd-12d33023a307",
        "colab": {
          "base_uri": "https://localhost:8080/"
        }
      },
      "outputs": [
        {
          "metadata": {
            "tags": null
          },
          "name": "stdout",
          "output_type": "stream",
          "text": [
            "val. score: 0.6054600214736116\n",
            "test score: 0.6211071878238361\n",
            "best params: {'knn__metric': 'manhattan', 'knn__n_neighbors': 58, 'knn__weights': 'uniform'}\n"
          ]
        }
      ],
      "source": [
        "pipe_4 = Pipeline(steps=[('knn', KNeighborsClassifier())])\n",
        "opt = GridSearchCV(\n",
        "    pipe_4, params[3], cv=3, n_jobs=-1, scoring='roc_auc'\n",
        ")\n",
        "\n",
        "opt.fit(X_train, y_train)\n",
        "\n",
        "print(\"val. score: %s\" % opt.best_score_)\n",
        "print(\"test score: %s\" % opt.score(X_test, y_test))\n",
        "print(\"best params: %s\" % str(opt.best_params_))"
      ]
    },
    {
      "cell_type": "code",
      "execution_count": 90,
      "metadata": {
        "id": "l03I2qLSxtUs"
      },
      "outputs": [],
      "source": [
        "from tensorflow.python import keras\n",
        "from keras.models import Model\n",
        "from keras.layers import Input,Dense,BatchNormalization,Concatenate,GaussianNoise\n",
        "from keras.optimizers import Nadam"
      ]
    },
    {
      "cell_type": "code",
      "execution_count": 91,
      "metadata": {
        "id": "zo9T5Jq9xtUs"
      },
      "outputs": [],
      "source": [
        "#define latent dimension size\n",
        "latent_dim = int(np.ceil(np.log(len(X_train)*len(processed_df))))"
      ]
    },
    {
      "cell_type": "code",
      "execution_count": 92,
      "metadata": {
        "id": "aySc0QHUxtUs"
      },
      "outputs": [],
      "source": [
        "#input for random seed vecotors\n",
        "latent_inputs = Input(shape=(latent_dim,),name='latent')\n",
        "#input for target specification\n",
        "target_inputs = Input(shape=(2,),name='target')"
      ]
    },
    {
      "cell_type": "code",
      "execution_count": 93,
      "metadata": {
        "id": "imGMFg-pxtUs"
      },
      "outputs": [],
      "source": [
        "inputs = {'latent':latent_inputs,'target':target_inputs}"
      ]
    },
    {
      "cell_type": "code",
      "execution_count": 94,
      "metadata": {
        "id": "gLKVSYolxtUs"
      },
      "outputs": [],
      "source": [
        "net = Concatenate()([latent_inputs,target_inputs])"
      ]
    },
    {
      "cell_type": "code",
      "execution_count": 95,
      "metadata": {
        "id": "RS9mUknSxtUs"
      },
      "outputs": [],
      "source": [
        "for _ in range(2):\n",
        "    net = Dense(32+len(processed_df), activation='relu',\n",
        "                kernel_initializer='he_uniform')(net)\n",
        "    net = BatchNormalization()(net)"
      ]
    },
    {
      "cell_type": "code",
      "execution_count": 96,
      "metadata": {
        "id": "d9DUAwYIxtUs"
      },
      "outputs": [],
      "source": [
        "outputs = {}\n",
        "#numeric data outputs\n",
        "for name in numeric_data:\n",
        "    outputs[name] = Dense(1,activation='tanh',\n",
        "                            kernel_initializer='glorot_uniform',name=name)(net)"
      ]
    },
    {
      "cell_type": "code",
      "execution_count": 97,
      "metadata": {
        "id": "9lL91n69xtUs"
      },
      "outputs": [],
      "source": [
        "string_nets = Dense(len(string_data),activation='relu',\n",
        "                        kernel_initializer='he_uniform')(net)\n",
        "string_nets = BatchNormalization()(string_nets)"
      ]
    },
    {
      "cell_type": "code",
      "execution_count": 98,
      "metadata": {
        "id": "-mSisYMCxtUs"
      },
      "outputs": [],
      "source": [
        "#string data outputs\n",
        "for name,n_token in n_tokens.items():\n",
        "    string_net = Dense(n_embeddings[name],activation='relu',\n",
        "                        kernel_initializer='he_uniform')(string_nets)\n",
        "    string_net = BatchNormalization()(string_net)\n",
        "    outputs[name] = Dense(n_token,activation='softmax',\n",
        "                            kernel_initializer='glorot_uniform',name=name)(net)"
      ]
    },
    {
      "cell_type": "code",
      "execution_count": 99,
      "metadata": {
        "id": "0P3p7ClFxtUs"
      },
      "outputs": [],
      "source": [
        "generator = Model(inputs=inputs, outputs=outputs)\n",
        "generator.compile(loss='categorical_crossentropy',\n",
        "                      optimizer=Nadam(clipnorm=1.))"
      ]
    },
    {
      "cell_type": "code",
      "execution_count": 100,
      "metadata": {
        "id": "cnK8VLPnxtUs",
        "outputId": "23989422-4e88-438b-f4eb-ad60c8b20eb4",
        "colab": {
          "base_uri": "https://localhost:8080/",
          "height": 294
        }
      },
      "outputs": [
        {
          "data": {
            "image/png": "[encoded data removed]",
            "text/plain": [
              "<IPython.core.display.Image object>"
            ]
          },
          "execution_count": 100,
          "metadata": {},
          "output_type": "execute_result"
        }
      ],
      "source": [
        "from keras.utils import plot_model\n",
        "plot_model(generator, to_file='generator.png')"
      ]
    },
    {
      "cell_type": "code",
      "execution_count": 101,
      "metadata": {
        "id": "hcDlQSAextUt"
      },
      "outputs": [],
      "source": [
        "inputs = {}\n",
        "numeric_nets = []\n",
        "string_nets = []"
      ]
    },
    {
      "cell_type": "code",
      "execution_count": 102,
      "metadata": {
        "id": "WXIURHTbxtUt"
      },
      "outputs": [],
      "source": [
        "#numerical data inputs\n",
        "for name in numeric_data:\n",
        "    numeric_input = Input(shape=(1,),name=name)\n",
        "    inputs[name] = numeric_input\n",
        "    \n",
        "    numeric_net = GaussianNoise(0.01)(numeric_input)\n",
        "    numeric_nets.append(numeric_net)"
      ]
    },
    {
      "cell_type": "code",
      "execution_count": 103,
      "metadata": {
        "id": "0xUiI-3txtUt"
      },
      "outputs": [],
      "source": [
        "#string data inputs\n",
        "for name,n_token in n_tokens.items():\n",
        "    string_input = Input(shape=(n_token,),name=name)\n",
        "    inputs[name] = string_input\n",
        "\n",
        "    string_net = GaussianNoise(0.05)(string_input)\n",
        "    string_net = Dense(n_embeddings[name],activation='relu',\n",
        "                        kernel_initializer='he_uniform')(string_net)\n",
        "    string_nets.append(string_net)"
      ]
    },
    {
      "cell_type": "code",
      "execution_count": 104,
      "metadata": {
        "id": "o9XrkxRZxtUt"
      },
      "outputs": [],
      "source": [
        "string_nets = Concatenate()(string_nets)\n",
        "string_nets = BatchNormalization()(string_nets)\n",
        "string_nets = [Dense(len(string_data),activation='relu',\n",
        "                        kernel_initializer='he_uniform')(string_nets)]"
      ]
    },
    {
      "cell_type": "code",
      "execution_count": 105,
      "metadata": {
        "id": "zuhKI1v3xtUt"
      },
      "outputs": [],
      "source": [
        "net = Concatenate()(numeric_nets + string_nets)\n",
        "net = BatchNormalization()(net)"
      ]
    },
    {
      "cell_type": "code",
      "execution_count": 106,
      "metadata": {
        "id": "tXKEpZm_xtUt"
      },
      "outputs": [],
      "source": [
        "for _ in range(2):\n",
        "    net = Dense(64+len(data), activation='relu',\n",
        "                kernel_initializer='he_uniform')(net)\n",
        "    net = BatchNormalization()(net)"
      ]
    },
    {
      "cell_type": "code",
      "execution_count": 107,
      "metadata": {
        "id": "A1tXxGatxtUt"
      },
      "outputs": [],
      "source": [
        "#discrimination/classification\n",
        "outputs = Dense(3, activation='softmax',\n",
        "                kernel_initializer='glorot_uniform')(net)\n",
        "\n",
        "discriminator = Model(inputs=inputs, outputs=outputs)\n",
        "discriminator.compile(loss='categorical_crossentropy',\n",
        "                        optimizer=Nadam(clipnorm=1.))"
      ]
    },
    {
      "cell_type": "code",
      "execution_count": 108,
      "metadata": {
        "id": "pOpLJshLxtUt",
        "outputId": "db6271fe-d85f-4fcd-fd5d-93abba1cc8ea",
        "colab": {
          "base_uri": "https://localhost:8080/",
          "height": 412
        }
      },
      "outputs": [
        {
          "data": {
            "image/png": "[encoded data removed]",
            "text/plain": [
              "<IPython.core.display.Image object>"
            ]
          },
          "execution_count": 108,
          "metadata": {},
          "output_type": "execute_result"
        }
      ],
      "source": [
        "plot_model(discriminator, to_file='discriminator.png')"
      ]
    },
    {
      "cell_type": "code",
      "execution_count": 109,
      "metadata": {
        "id": "RrvlQKRsxtUt"
      },
      "outputs": [],
      "source": [
        "#disable discriminator training\n",
        "discriminator.trainable = False\n"
      ]
    },
    {
      "cell_type": "code",
      "execution_count": 110,
      "metadata": {
        "id": "bya6kQ9NxtUt"
      },
      "outputs": [],
      "source": [
        "#input for random seed vecotors\n",
        "latent_inputs = Input(shape=(latent_dim,),name='latent')\n",
        "#input for target specification\n",
        "target_inputs = Input(shape=(2,),name='target')\n",
        "\n",
        "inputs = {'latent':latent_inputs,'target':target_inputs}\n",
        "\n",
        "net = generator([latent_inputs, target_inputs])\n",
        "outputs = discriminator(net)\n",
        "\n",
        "gan = Model(inputs=inputs, outputs=outputs)\n",
        "gan.compile(loss='categorical_crossentropy', optimizer=Nadam(clipnorm=1.))"
      ]
    },
    {
      "cell_type": "code",
      "execution_count": 111,
      "metadata": {
        "id": "aZjE_zNLxtUt",
        "outputId": "8d3ff420-0d4b-45ba-8ad2-6cc78a414727",
        "colab": {
          "base_uri": "https://localhost:8080/",
          "height": 272
        }
      },
      "outputs": [
        {
          "data": {
            "image/png": "[encoded data removed]",
            "text/plain": [
              "<IPython.core.display.Image object>"
            ]
          },
          "execution_count": 111,
          "metadata": {},
          "output_type": "execute_result"
        }
      ],
      "source": [
        "plot_model(gan, to_file='gan.png')"
      ]
    },
    {
      "cell_type": "code",
      "source": [
        "from tensorflow.keras.utils import to_categorical   \n",
        "\n",
        "#function for generating latent samples for synthetic data for generator training\n",
        "def generate_latent_samples(n):\n",
        "    \n",
        "    #generate latent vectors with balanced targets\n",
        "    x = {'latent': np.random.normal(size=(n, latent_dim)),\n",
        "         'target': to_categorical(np.hstack([np.array([_x for _ in range(n//2)]) for _x in range(2)]),2)}\n",
        "    \n",
        "    #outputs indicating postive discirmination (target value)\n",
        "    y = np.hstack([np.array([[0] for _ in range(n)]), x['target']])\n",
        "\n",
        "    return x, y\n",
        "\n",
        "\n",
        "#function for generating synthetic samples for discriminator training\n",
        "def generate_synthetic_samples(n):\n",
        "    \n",
        "    latent_x, _ = generate_latent_samples(n)\n",
        "    #generate data with balanced targets\n",
        "    gen_predict = generator.predict(latent_x)\n",
        "\n",
        "    x = dict(zip(generator.output_names, gen_predict))\n",
        "    \n",
        "    #outputs indicating negative discirmination\n",
        "    y = np.array([[1,0,0] for _ in range(n)])\n",
        "\n",
        "    return x, y\n",
        "    \n",
        "    \n",
        "#function for generating real samples for discriminator training\n",
        "def generate_real_samples(n):\n",
        "    \n",
        "    #sample real data with balanced targets\n",
        "    samples = [np.random.choice(train_target_df[train_target_df[target] == _y].index, size=n//2) for _y in range(2)]\n",
        "\n",
        "    x = {name:np.vstack([train_df[name][sample].values.reshape(-1,1) for y,sample in enumerate(samples)]) for name in data}\n",
        "    for name,n_token in n_tokens.items():\n",
        "        x[name] = to_categorical(x[name], n_token)\n",
        "    \n",
        "    #outputs indicating postive discirmination (target value)\n",
        "    y = np.hstack([np.array([[0] for _ in range(n)]),\n",
        "                   to_categorical(np.hstack([train_target_df[target][sample].values for sample in samples]),2)])\n",
        "\n",
        "    return x,y"
      ],
      "metadata": {
        "id": "Ps7B091byMCH"
      },
      "execution_count": 115,
      "outputs": []
    },
    {
      "cell_type": "code",
      "source": [
        "import itertools\n",
        "import matplotlib.pyplot as plt\n",
        "\n",
        "def train_gan(n_epochs,n_batch,n_plot,n_eval):\n",
        "    \n",
        "    #discriminator/generator training logs\n",
        "    disc_loss_hist = []\n",
        "    gen_loss_hist = []\n",
        "\n",
        "    for epoch in range(n_epochs):\n",
        "        if epoch%100 == 0:\n",
        "            print(epoch,end=' ')\n",
        "        \n",
        "        #enable discriminator training\n",
        "        discriminator.trainable = True\n",
        "        \n",
        "        #sample equal portions of real/synthetic data\n",
        "        x_real, y_real = generate_real_samples(int(n_batch / 2))\n",
        "        x_synth, y_synth = generate_synthetic_samples(int(n_batch / 2))\n",
        "            \n",
        "        x_total = {}\n",
        "        print(x_real.keys())\n",
        "        for key in x_real.keys():\n",
        "            x_total[key] = np.vstack([x_real[key],x_synth[key]])\n",
        "        \n",
        "        y_total = np.vstack([y_real,y_synth])            \n",
        "        \n",
        "        #train discriminator\n",
        "        hist = discriminator.train_on_batch(x_total, y_total)\n",
        "        disc_loss_hist.append(hist)\n",
        "\n",
        "        discriminator.trainable = False\n",
        "        \n",
        "        x_gan, y_gan = generate_latent_samples(n_batch)\n",
        "        \n",
        "        #train generator\n",
        "        hist = gan.train_on_batch(x_gan, y_gan)\n",
        "        gen_loss_hist.append(hist)                               \n",
        "        \n",
        "        #after set number of epochs, evaluate GAN training progress\n",
        "        if (epoch+1) % n_eval == 0:\n",
        "            print('\\n')\n",
        "            \n",
        "            #pull real and synthetic data to compare distributions and relationships\n",
        "            x_real, _ = generate_real_samples(int(n_plot / 2))\n",
        "            x_synth, _ = generate_synthetic_samples(int(n_plot / 2))\n",
        "            \n",
        "            for name,n_token in n_tokens.items():\n",
        "                x_real[name] = x_real[name].argmax(1).reshape(-1,1)\n",
        "                x_synth[name] = x_synth[name].argmax(1).reshape(-1,1)\n",
        "\n",
        "            print('numeric data')\n",
        "            for i,name1 in enumerate(numeric_data):\n",
        "                print(name1)\n",
        "                plt.hist([x_real[name1].flatten(),x_synth[name1].flatten()],\n",
        "                         bins=16) #compare data distributions\n",
        "                plt.legend(['Real','Synthetic'])\n",
        "                plt.show()\n",
        "                \n",
        "                for name2 in numeric_data[i+1:]:\n",
        "                    print(name1,name2)\n",
        "                    plt.scatter(x_real[name1],x_real[name2],s=1) #compare data realtionships\n",
        "                    plt.scatter(x_synth[name1],x_synth[name2],s=1)\n",
        "                    plt.legend(['Real','Synthetic'])\n",
        "                    plt.show()\n",
        "            \n",
        "            print('string data')\n",
        "            for i,name1 in enumerate(string_data):\n",
        "                print(name1)\n",
        "                plt.hist([x_real[name1].flatten(),x_synth[name1].flatten()],\n",
        "                         bins=n_tokens[name1]) #compare data distributions\n",
        "                plt.legend(['Real','Synthetic'])\n",
        "                plt.show()\n",
        "                \n",
        "                for name2 in string_data[i+1:]:\n",
        "                    print(name1,name2)\n",
        "                    #create numerical index to represent combinations of tokens\n",
        "                    lookup = {tup:p for p,tup in enumerate(itertools.product(range(n_tokens[name1]),\n",
        "                                                                             range(n_tokens[name2])))}\n",
        "                    hist_real = [lookup[tuple(x)] for x in np.hstack([x_real[name1],x_real[name2]])]\n",
        "                    hist_synth = [lookup[tuple(x)] for x in np.hstack([x_synth[name1],x_synth[name2]])]\n",
        "                    \n",
        "                    plt.hist([hist_real,hist_synth],\n",
        "                             bins=len(set(hist_real+hist_synth)),\n",
        "                             color=['blue','orange']) #compare data realtionships\n",
        "                    \n",
        "                    plt.legend(['Real','Synthetic'])\n",
        "                    plt.show()\n",
        "            \n",
        "            #plot loss history\n",
        "            print('loss history')\n",
        "            plt.plot(disc_loss_hist,linewidth=2)\n",
        "            plt.plot(gen_loss_hist,linewidth=2)\n",
        "            plt.legend(['Discriminator','Generator'])\n",
        "            plt.show()\n",
        "            print('\\n')\n",
        "\n",
        "\n",
        "n_epochs = 3000\n",
        "n_batch = 1024*16\n",
        "n_eval = 500\n",
        "n_plot = 2048\n",
        "\n",
        "train_gan(n_epochs,n_batch,n_plot,n_eval)"
      ],
      "metadata": {
        "id": "1N77rWLrzSDB",
        "outputId": "9e17acfa-9029-487b-987b-48b1d8e70901",
        "colab": {
          "base_uri": "https://localhost:8080/",
          "height": 496
        }
      },
      "execution_count": 116,
      "outputs": [
        {
          "output_type": "stream",
          "name": "stdout",
          "text": [
            "256/256 [==============================] - 89s 347ms/step\n",
            "dict_keys(['PassengerId', 'HomePlanet', 'CryoSleep', 'Cabin', 'Destination', 'Age', 'VIP', 'RoomService', 'FoodCourt', 'ShoppingMall', 'Spa', 'VRDeck', 'Name'])\n"
          ]
        },
        {
          "output_type": "error",
          "ename": "ValueError",
          "evalue": "ignored",
          "traceback": [
            "\u001b[0;31m---------------------------------------------------------------------------\u001b[0m",
            "\u001b[0;31mValueError\u001b[0m                                Traceback (most recent call last)",
            "\u001b[0;32m<ipython-input-116-376f21abf1f5>\u001b[0m in \u001b[0;36m<module>\u001b[0;34m\u001b[0m\n\u001b[1;32m    102\u001b[0m \u001b[0mn_plot\u001b[0m \u001b[0;34m=\u001b[0m \u001b[0;36m2048\u001b[0m\u001b[0;34m\u001b[0m\u001b[0;34m\u001b[0m\u001b[0m\n\u001b[1;32m    103\u001b[0m \u001b[0;34m\u001b[0m\u001b[0m\n\u001b[0;32m--> 104\u001b[0;31m \u001b[0mtrain_gan\u001b[0m\u001b[0;34m(\u001b[0m\u001b[0mn_epochs\u001b[0m\u001b[0;34m,\u001b[0m\u001b[0mn_batch\u001b[0m\u001b[0;34m,\u001b[0m\u001b[0mn_plot\u001b[0m\u001b[0;34m,\u001b[0m\u001b[0mn_eval\u001b[0m\u001b[0;34m)\u001b[0m\u001b[0;34m\u001b[0m\u001b[0;34m\u001b[0m\u001b[0m\n\u001b[0m",
            "\u001b[0;32m<ipython-input-116-376f21abf1f5>\u001b[0m in \u001b[0;36mtrain_gan\u001b[0;34m(n_epochs, n_batch, n_plot, n_eval)\u001b[0m\n\u001b[1;32m     22\u001b[0m         \u001b[0mprint\u001b[0m\u001b[0;34m(\u001b[0m\u001b[0mx_real\u001b[0m\u001b[0;34m.\u001b[0m\u001b[0mkeys\u001b[0m\u001b[0;34m(\u001b[0m\u001b[0;34m)\u001b[0m\u001b[0;34m)\u001b[0m\u001b[0;34m\u001b[0m\u001b[0;34m\u001b[0m\u001b[0m\n\u001b[1;32m     23\u001b[0m         \u001b[0;32mfor\u001b[0m \u001b[0mkey\u001b[0m \u001b[0;32min\u001b[0m \u001b[0mx_real\u001b[0m\u001b[0;34m.\u001b[0m\u001b[0mkeys\u001b[0m\u001b[0;34m(\u001b[0m\u001b[0;34m)\u001b[0m\u001b[0;34m:\u001b[0m\u001b[0;34m\u001b[0m\u001b[0;34m\u001b[0m\u001b[0m\n\u001b[0;32m---> 24\u001b[0;31m             \u001b[0mx_total\u001b[0m\u001b[0;34m[\u001b[0m\u001b[0mkey\u001b[0m\u001b[0;34m]\u001b[0m \u001b[0;34m=\u001b[0m \u001b[0mnp\u001b[0m\u001b[0;34m.\u001b[0m\u001b[0mvstack\u001b[0m\u001b[0;34m(\u001b[0m\u001b[0;34m[\u001b[0m\u001b[0mx_real\u001b[0m\u001b[0;34m[\u001b[0m\u001b[0mkey\u001b[0m\u001b[0;34m]\u001b[0m\u001b[0;34m,\u001b[0m\u001b[0mx_synth\u001b[0m\u001b[0;34m[\u001b[0m\u001b[0mkey\u001b[0m\u001b[0;34m]\u001b[0m\u001b[0;34m]\u001b[0m\u001b[0;34m)\u001b[0m\u001b[0;34m\u001b[0m\u001b[0;34m\u001b[0m\u001b[0m\n\u001b[0m\u001b[1;32m     25\u001b[0m \u001b[0;34m\u001b[0m\u001b[0m\n\u001b[1;32m     26\u001b[0m         \u001b[0my_total\u001b[0m \u001b[0;34m=\u001b[0m \u001b[0mnp\u001b[0m\u001b[0;34m.\u001b[0m\u001b[0mvstack\u001b[0m\u001b[0;34m(\u001b[0m\u001b[0;34m[\u001b[0m\u001b[0my_real\u001b[0m\u001b[0;34m,\u001b[0m\u001b[0my_synth\u001b[0m\u001b[0;34m]\u001b[0m\u001b[0;34m)\u001b[0m\u001b[0;34m\u001b[0m\u001b[0;34m\u001b[0m\u001b[0m\n",
            "\u001b[0;32m<__array_function__ internals>\u001b[0m in \u001b[0;36mvstack\u001b[0;34m(*args, **kwargs)\u001b[0m\n",
            "\u001b[0;32m/usr/local/lib/python3.8/dist-packages/numpy/core/shape_base.py\u001b[0m in \u001b[0;36mvstack\u001b[0;34m(tup)\u001b[0m\n\u001b[1;32m    280\u001b[0m     \u001b[0;32mif\u001b[0m \u001b[0;32mnot\u001b[0m \u001b[0misinstance\u001b[0m\u001b[0;34m(\u001b[0m\u001b[0marrs\u001b[0m\u001b[0;34m,\u001b[0m \u001b[0mlist\u001b[0m\u001b[0;34m)\u001b[0m\u001b[0;34m:\u001b[0m\u001b[0;34m\u001b[0m\u001b[0;34m\u001b[0m\u001b[0m\n\u001b[1;32m    281\u001b[0m         \u001b[0marrs\u001b[0m \u001b[0;34m=\u001b[0m \u001b[0;34m[\u001b[0m\u001b[0marrs\u001b[0m\u001b[0;34m]\u001b[0m\u001b[0;34m\u001b[0m\u001b[0;34m\u001b[0m\u001b[0m\n\u001b[0;32m--> 282\u001b[0;31m     \u001b[0;32mreturn\u001b[0m \u001b[0m_nx\u001b[0m\u001b[0;34m.\u001b[0m\u001b[0mconcatenate\u001b[0m\u001b[0;34m(\u001b[0m\u001b[0marrs\u001b[0m\u001b[0;34m,\u001b[0m \u001b[0;36m0\u001b[0m\u001b[0;34m)\u001b[0m\u001b[0;34m\u001b[0m\u001b[0;34m\u001b[0m\u001b[0m\n\u001b[0m\u001b[1;32m    283\u001b[0m \u001b[0;34m\u001b[0m\u001b[0m\n\u001b[1;32m    284\u001b[0m \u001b[0;34m\u001b[0m\u001b[0m\n",
            "\u001b[0;32m<__array_function__ internals>\u001b[0m in \u001b[0;36mconcatenate\u001b[0;34m(*args, **kwargs)\u001b[0m\n",
            "\u001b[0;31mValueError\u001b[0m: all the input array dimensions for the concatenation axis must match exactly, but along dimension 1, the array at index 0 has size 6606 and the array at index 1 has size 1"
          ]
        }
      ]
    },
    {
      "cell_type": "code",
      "source": [
        "#train classifer with real and synthetic data for 1000 epochs\n",
        "for _ in range(1000):\n",
        "    #split batch into half real and half synthetic data\n",
        "    x_real, y_real = generate_real_samples(batch_size//2)\n",
        "    x_synth, y_synth = generate_synthetic_samples(batch_size//2)\n",
        "\n",
        "    x_total = {}\n",
        "    for key in x_real.keys():\n",
        "        x_total[key] = np.vstack([x_real[key],x_synth[key]])\n",
        "    y_total = np.vstack([y_real,y_synth])            \n",
        "        \n",
        "    gan_classifier.train_on_batch(x_total,y_total[:,1:])\n",
        "    \n",
        "#setup of test data for evaluating classifier results\n",
        "test_inputs = {}\n",
        "\n",
        "for name in numeric_data:\n",
        "    test_inputs[name] = test_df[[name]].values\n",
        "for name in string_data:\n",
        "    test_inputs[name] = to_categorical(test_df[name].values,n_tokens[name])\n",
        "    \n",
        "test_outputs = to_categorical(test_target_df[target].values,2)\n",
        "\n",
        "gan_classifier_eval = gan_classifier.evaluate(test_inputs,test_outputs)\n",
        "print('gan classifier accuracy:',gan_classifier_eval[1])"
      ],
      "metadata": {
        "id": "FHmUbHD-0awZ"
      },
      "execution_count": null,
      "outputs": []
    }
  ],
  "metadata": {
    "kernelspec": {
      "display_name": "tensorflow_environment",
      "language": "python",
      "name": "python3"
    },
    "language_info": {
      "codemirror_mode": {
        "name": "ipython",
        "version": 3
      },
      "file_extension": ".py",
      "mimetype": "text/x-python",
      "name": "python",
      "nbconvert_exporter": "python",
      "pygments_lexer": "ipython3",
      "version": "3.10.8"
    },
    "orig_nbformat": 4,
    "vscode": {
      "interpreter": {
        "hash": "8845f416b1c33c262eafded1a8825314ba462b8611da77f81c53826959327ab9"
      }
    },
    "colab": {
      "provenance": []
    }
  },
  "nbformat": 4,
  "nbformat_minor": 0
}